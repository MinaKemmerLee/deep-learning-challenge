{
  "cells": [
    {
      "cell_type": "markdown",
      "metadata": {
        "id": "view-in-github",
        "colab_type": "text"
      },
      "source": [
        "<a href=\"https://colab.research.google.com/github/MinaKemmerLee/deep-learning-challenge/blob/main/AlphabetCharity_Optimization.ipynb\" target=\"_parent\"><img src=\"https://colab.research.google.com/assets/colab-badge.svg\" alt=\"Open In Colab\"/></a>"
      ]
    },
    {
      "cell_type": "markdown",
      "metadata": {
        "id": "KlamivxZxfzS"
      },
      "source": [
        "## Preprocessing"
      ]
    },
    {
      "cell_type": "code",
      "execution_count": 1,
      "metadata": {
        "colab": {
          "base_uri": "https://localhost:8080/",
          "height": 206
        },
        "id": "RloTVf3bxfzU",
        "outputId": "472eacd9-abd8-4467-fbe6-5a8d708dc8df"
      },
      "outputs": [
        {
          "output_type": "execute_result",
          "data": {
            "text/plain": [
              "        EIN                                      NAME APPLICATION_TYPE  \\\n",
              "0  10520599              BLUE KNIGHTS MOTORCYCLE CLUB              T10   \n",
              "1  10531628    AMERICAN CHESAPEAKE CLUB CHARITABLE TR               T3   \n",
              "2  10547893        ST CLOUD PROFESSIONAL FIREFIGHTERS               T5   \n",
              "3  10553066            SOUTHSIDE ATHLETIC ASSOCIATION               T3   \n",
              "4  10556103  GENETIC RESEARCH INSTITUTE OF THE DESERT               T3   \n",
              "\n",
              "        AFFILIATION CLASSIFICATION      USE_CASE  ORGANIZATION  STATUS  \\\n",
              "0       Independent          C1000    ProductDev   Association       1   \n",
              "1       Independent          C2000  Preservation  Co-operative       1   \n",
              "2  CompanySponsored          C3000    ProductDev   Association       1   \n",
              "3  CompanySponsored          C2000  Preservation         Trust       1   \n",
              "4       Independent          C1000     Heathcare         Trust       1   \n",
              "\n",
              "      INCOME_AMT SPECIAL_CONSIDERATIONS  ASK_AMT  IS_SUCCESSFUL  \n",
              "0              0                      N     5000              1  \n",
              "1         1-9999                      N   108590              1  \n",
              "2              0                      N     5000              0  \n",
              "3    10000-24999                      N     6692              1  \n",
              "4  100000-499999                      N   142590              1  "
            ],
            "text/html": [
              "\n",
              "  <div id=\"df-b8a89c67-f511-4253-a38a-e1dfc5cc0a32\" class=\"colab-df-container\">\n",
              "    <div>\n",
              "<style scoped>\n",
              "    .dataframe tbody tr th:only-of-type {\n",
              "        vertical-align: middle;\n",
              "    }\n",
              "\n",
              "    .dataframe tbody tr th {\n",
              "        vertical-align: top;\n",
              "    }\n",
              "\n",
              "    .dataframe thead th {\n",
              "        text-align: right;\n",
              "    }\n",
              "</style>\n",
              "<table border=\"1\" class=\"dataframe\">\n",
              "  <thead>\n",
              "    <tr style=\"text-align: right;\">\n",
              "      <th></th>\n",
              "      <th>EIN</th>\n",
              "      <th>NAME</th>\n",
              "      <th>APPLICATION_TYPE</th>\n",
              "      <th>AFFILIATION</th>\n",
              "      <th>CLASSIFICATION</th>\n",
              "      <th>USE_CASE</th>\n",
              "      <th>ORGANIZATION</th>\n",
              "      <th>STATUS</th>\n",
              "      <th>INCOME_AMT</th>\n",
              "      <th>SPECIAL_CONSIDERATIONS</th>\n",
              "      <th>ASK_AMT</th>\n",
              "      <th>IS_SUCCESSFUL</th>\n",
              "    </tr>\n",
              "  </thead>\n",
              "  <tbody>\n",
              "    <tr>\n",
              "      <th>0</th>\n",
              "      <td>10520599</td>\n",
              "      <td>BLUE KNIGHTS MOTORCYCLE CLUB</td>\n",
              "      <td>T10</td>\n",
              "      <td>Independent</td>\n",
              "      <td>C1000</td>\n",
              "      <td>ProductDev</td>\n",
              "      <td>Association</td>\n",
              "      <td>1</td>\n",
              "      <td>0</td>\n",
              "      <td>N</td>\n",
              "      <td>5000</td>\n",
              "      <td>1</td>\n",
              "    </tr>\n",
              "    <tr>\n",
              "      <th>1</th>\n",
              "      <td>10531628</td>\n",
              "      <td>AMERICAN CHESAPEAKE CLUB CHARITABLE TR</td>\n",
              "      <td>T3</td>\n",
              "      <td>Independent</td>\n",
              "      <td>C2000</td>\n",
              "      <td>Preservation</td>\n",
              "      <td>Co-operative</td>\n",
              "      <td>1</td>\n",
              "      <td>1-9999</td>\n",
              "      <td>N</td>\n",
              "      <td>108590</td>\n",
              "      <td>1</td>\n",
              "    </tr>\n",
              "    <tr>\n",
              "      <th>2</th>\n",
              "      <td>10547893</td>\n",
              "      <td>ST CLOUD PROFESSIONAL FIREFIGHTERS</td>\n",
              "      <td>T5</td>\n",
              "      <td>CompanySponsored</td>\n",
              "      <td>C3000</td>\n",
              "      <td>ProductDev</td>\n",
              "      <td>Association</td>\n",
              "      <td>1</td>\n",
              "      <td>0</td>\n",
              "      <td>N</td>\n",
              "      <td>5000</td>\n",
              "      <td>0</td>\n",
              "    </tr>\n",
              "    <tr>\n",
              "      <th>3</th>\n",
              "      <td>10553066</td>\n",
              "      <td>SOUTHSIDE ATHLETIC ASSOCIATION</td>\n",
              "      <td>T3</td>\n",
              "      <td>CompanySponsored</td>\n",
              "      <td>C2000</td>\n",
              "      <td>Preservation</td>\n",
              "      <td>Trust</td>\n",
              "      <td>1</td>\n",
              "      <td>10000-24999</td>\n",
              "      <td>N</td>\n",
              "      <td>6692</td>\n",
              "      <td>1</td>\n",
              "    </tr>\n",
              "    <tr>\n",
              "      <th>4</th>\n",
              "      <td>10556103</td>\n",
              "      <td>GENETIC RESEARCH INSTITUTE OF THE DESERT</td>\n",
              "      <td>T3</td>\n",
              "      <td>Independent</td>\n",
              "      <td>C1000</td>\n",
              "      <td>Heathcare</td>\n",
              "      <td>Trust</td>\n",
              "      <td>1</td>\n",
              "      <td>100000-499999</td>\n",
              "      <td>N</td>\n",
              "      <td>142590</td>\n",
              "      <td>1</td>\n",
              "    </tr>\n",
              "  </tbody>\n",
              "</table>\n",
              "</div>\n",
              "    <div class=\"colab-df-buttons\">\n",
              "\n",
              "  <div class=\"colab-df-container\">\n",
              "    <button class=\"colab-df-convert\" onclick=\"convertToInteractive('df-b8a89c67-f511-4253-a38a-e1dfc5cc0a32')\"\n",
              "            title=\"Convert this dataframe to an interactive table.\"\n",
              "            style=\"display:none;\">\n",
              "\n",
              "  <svg xmlns=\"http://www.w3.org/2000/svg\" height=\"24px\" viewBox=\"0 -960 960 960\">\n",
              "    <path d=\"M120-120v-720h720v720H120Zm60-500h600v-160H180v160Zm220 220h160v-160H400v160Zm0 220h160v-160H400v160ZM180-400h160v-160H180v160Zm440 0h160v-160H620v160ZM180-180h160v-160H180v160Zm440 0h160v-160H620v160Z\"/>\n",
              "  </svg>\n",
              "    </button>\n",
              "\n",
              "  <style>\n",
              "    .colab-df-container {\n",
              "      display:flex;\n",
              "      gap: 12px;\n",
              "    }\n",
              "\n",
              "    .colab-df-convert {\n",
              "      background-color: #E8F0FE;\n",
              "      border: none;\n",
              "      border-radius: 50%;\n",
              "      cursor: pointer;\n",
              "      display: none;\n",
              "      fill: #1967D2;\n",
              "      height: 32px;\n",
              "      padding: 0 0 0 0;\n",
              "      width: 32px;\n",
              "    }\n",
              "\n",
              "    .colab-df-convert:hover {\n",
              "      background-color: #E2EBFA;\n",
              "      box-shadow: 0px 1px 2px rgba(60, 64, 67, 0.3), 0px 1px 3px 1px rgba(60, 64, 67, 0.15);\n",
              "      fill: #174EA6;\n",
              "    }\n",
              "\n",
              "    .colab-df-buttons div {\n",
              "      margin-bottom: 4px;\n",
              "    }\n",
              "\n",
              "    [theme=dark] .colab-df-convert {\n",
              "      background-color: #3B4455;\n",
              "      fill: #D2E3FC;\n",
              "    }\n",
              "\n",
              "    [theme=dark] .colab-df-convert:hover {\n",
              "      background-color: #434B5C;\n",
              "      box-shadow: 0px 1px 3px 1px rgba(0, 0, 0, 0.15);\n",
              "      filter: drop-shadow(0px 1px 2px rgba(0, 0, 0, 0.3));\n",
              "      fill: #FFFFFF;\n",
              "    }\n",
              "  </style>\n",
              "\n",
              "    <script>\n",
              "      const buttonEl =\n",
              "        document.querySelector('#df-b8a89c67-f511-4253-a38a-e1dfc5cc0a32 button.colab-df-convert');\n",
              "      buttonEl.style.display =\n",
              "        google.colab.kernel.accessAllowed ? 'block' : 'none';\n",
              "\n",
              "      async function convertToInteractive(key) {\n",
              "        const element = document.querySelector('#df-b8a89c67-f511-4253-a38a-e1dfc5cc0a32');\n",
              "        const dataTable =\n",
              "          await google.colab.kernel.invokeFunction('convertToInteractive',\n",
              "                                                    [key], {});\n",
              "        if (!dataTable) return;\n",
              "\n",
              "        const docLinkHtml = 'Like what you see? Visit the ' +\n",
              "          '<a target=\"_blank\" href=https://colab.research.google.com/notebooks/data_table.ipynb>data table notebook</a>'\n",
              "          + ' to learn more about interactive tables.';\n",
              "        element.innerHTML = '';\n",
              "        dataTable['output_type'] = 'display_data';\n",
              "        await google.colab.output.renderOutput(dataTable, element);\n",
              "        const docLink = document.createElement('div');\n",
              "        docLink.innerHTML = docLinkHtml;\n",
              "        element.appendChild(docLink);\n",
              "      }\n",
              "    </script>\n",
              "  </div>\n",
              "\n",
              "\n",
              "<div id=\"df-3bee40c9-7b93-4980-9199-816f5588ae89\">\n",
              "  <button class=\"colab-df-quickchart\" onclick=\"quickchart('df-3bee40c9-7b93-4980-9199-816f5588ae89')\"\n",
              "            title=\"Suggest charts.\"\n",
              "            style=\"display:none;\">\n",
              "\n",
              "<svg xmlns=\"http://www.w3.org/2000/svg\" height=\"24px\"viewBox=\"0 0 24 24\"\n",
              "     width=\"24px\">\n",
              "    <g>\n",
              "        <path d=\"M19 3H5c-1.1 0-2 .9-2 2v14c0 1.1.9 2 2 2h14c1.1 0 2-.9 2-2V5c0-1.1-.9-2-2-2zM9 17H7v-7h2v7zm4 0h-2V7h2v10zm4 0h-2v-4h2v4z\"/>\n",
              "    </g>\n",
              "</svg>\n",
              "  </button>\n",
              "\n",
              "<style>\n",
              "  .colab-df-quickchart {\n",
              "    background-color: #E8F0FE;\n",
              "    border: none;\n",
              "    border-radius: 50%;\n",
              "    cursor: pointer;\n",
              "    display: none;\n",
              "    fill: #1967D2;\n",
              "    height: 32px;\n",
              "    padding: 0 0 0 0;\n",
              "    width: 32px;\n",
              "  }\n",
              "\n",
              "  .colab-df-quickchart:hover {\n",
              "    background-color: #E2EBFA;\n",
              "    box-shadow: 0px 1px 2px rgba(60, 64, 67, 0.3), 0px 1px 3px 1px rgba(60, 64, 67, 0.15);\n",
              "    fill: #174EA6;\n",
              "  }\n",
              "\n",
              "  [theme=dark] .colab-df-quickchart {\n",
              "    background-color: #3B4455;\n",
              "    fill: #D2E3FC;\n",
              "  }\n",
              "\n",
              "  [theme=dark] .colab-df-quickchart:hover {\n",
              "    background-color: #434B5C;\n",
              "    box-shadow: 0px 1px 3px 1px rgba(0, 0, 0, 0.15);\n",
              "    filter: drop-shadow(0px 1px 2px rgba(0, 0, 0, 0.3));\n",
              "    fill: #FFFFFF;\n",
              "  }\n",
              "</style>\n",
              "\n",
              "  <script>\n",
              "    async function quickchart(key) {\n",
              "      const charts = await google.colab.kernel.invokeFunction(\n",
              "          'suggestCharts', [key], {});\n",
              "    }\n",
              "    (() => {\n",
              "      let quickchartButtonEl =\n",
              "        document.querySelector('#df-3bee40c9-7b93-4980-9199-816f5588ae89 button');\n",
              "      quickchartButtonEl.style.display =\n",
              "        google.colab.kernel.accessAllowed ? 'block' : 'none';\n",
              "    })();\n",
              "  </script>\n",
              "</div>\n",
              "    </div>\n",
              "  </div>\n"
            ]
          },
          "metadata": {},
          "execution_count": 1
        }
      ],
      "source": [
        "# Import our dependencies\n",
        "from sklearn.model_selection import train_test_split\n",
        "from sklearn.preprocessing import StandardScaler\n",
        "import pandas as pd\n",
        "import tensorflow as tf\n",
        "\n",
        "#  Import and read the charity_data.csv.\n",
        "import pandas as pd\n",
        "application_df = pd.read_csv(\"https://static.bc-edx.com/data/dl-1-2/m21/lms/starter/charity_data.csv\")\n",
        "application_df.head()"
      ]
    },
    {
      "cell_type": "code",
      "execution_count": 2,
      "metadata": {
        "id": "rdCN25tqxfzW"
      },
      "outputs": [],
      "source": [
        "# Drop the non-beneficial ID columns, 'EIN' and 'NAME'.\n",
        "application_df.drop(['EIN', 'NAME'], axis=1, inplace=True)"
      ]
    },
    {
      "cell_type": "code",
      "execution_count": 3,
      "metadata": {
        "colab": {
          "base_uri": "https://localhost:8080/"
        },
        "id": "NUFwSHutxfzW",
        "outputId": "f850e6c5-b713-4c31-ccf0-1001ec8b71c0"
      },
      "outputs": [
        {
          "output_type": "execute_result",
          "data": {
            "text/plain": [
              "APPLICATION_TYPE            17\n",
              "AFFILIATION                  6\n",
              "CLASSIFICATION              71\n",
              "USE_CASE                     5\n",
              "ORGANIZATION                 4\n",
              "STATUS                       2\n",
              "INCOME_AMT                   9\n",
              "SPECIAL_CONSIDERATIONS       2\n",
              "ASK_AMT                   8747\n",
              "IS_SUCCESSFUL                2\n",
              "dtype: int64"
            ]
          },
          "metadata": {},
          "execution_count": 3
        }
      ],
      "source": [
        "# Determine the number of unique values in each column.\n",
        "unique_value_counts = application_df.nunique()\n",
        "unique_value_counts"
      ]
    },
    {
      "cell_type": "code",
      "execution_count": 4,
      "metadata": {
        "colab": {
          "base_uri": "https://localhost:8080/"
        },
        "id": "MSQ50BAixfzW",
        "outputId": "1cd0e723-15b2-4023-9408-8cb8cafdb693"
      },
      "outputs": [
        {
          "output_type": "execute_result",
          "data": {
            "text/plain": [
              "T3     27037\n",
              "T4      1542\n",
              "T6      1216\n",
              "T5      1173\n",
              "T19     1065\n",
              "T8       737\n",
              "T7       725\n",
              "T10      528\n",
              "T9       156\n",
              "T13       66\n",
              "T12       27\n",
              "T2        16\n",
              "T25        3\n",
              "T14        3\n",
              "T29        2\n",
              "T15        2\n",
              "T17        1\n",
              "Name: APPLICATION_TYPE, dtype: int64"
            ]
          },
          "metadata": {},
          "execution_count": 4
        }
      ],
      "source": [
        "# Look at APPLICATION_TYPE value counts for binning\n",
        "application_type_counts = application_df['APPLICATION_TYPE'].value_counts()\n",
        "application_type_counts"
      ]
    },
    {
      "cell_type": "code",
      "execution_count": 5,
      "metadata": {
        "colab": {
          "base_uri": "https://localhost:8080/"
        },
        "id": "n9wwlmaQxfzX",
        "outputId": "d03ee29b-157d-4ef4-d709-fb2b3533176a"
      },
      "outputs": [
        {
          "output_type": "execute_result",
          "data": {
            "text/plain": [
              "T3       27037\n",
              "T4        1542\n",
              "T6        1216\n",
              "T5        1173\n",
              "T19       1065\n",
              "T8         737\n",
              "T7         725\n",
              "T10        528\n",
              "Other      276\n",
              "Name: APPLICATION_TYPE, dtype: int64"
            ]
          },
          "metadata": {},
          "execution_count": 5
        }
      ],
      "source": [
        "# Choose a cutoff value and create a list of application types to be replaced\n",
        "# use the variable name `application_types_to_replace`\n",
        "cutoff = 500\n",
        "application_types_to_replace = list(application_type_counts[application_type_counts < cutoff].index)\n",
        "\n",
        "# Replace in dataframe\n",
        "for app in application_types_to_replace:\n",
        "    application_df['APPLICATION_TYPE'] = application_df['APPLICATION_TYPE'].replace(app,\"Other\")\n",
        "\n",
        "# Check to make sure binning was successful\n",
        "application_df['APPLICATION_TYPE'].value_counts()"
      ]
    },
    {
      "cell_type": "code",
      "execution_count": 6,
      "metadata": {
        "colab": {
          "base_uri": "https://localhost:8080/"
        },
        "id": "pEG33FQGxfzX",
        "outputId": "12981fe1-efa2-4b1f-ea35-a93bdec69ab6"
      },
      "outputs": [
        {
          "output_type": "execute_result",
          "data": {
            "text/plain": [
              "C1000    17326\n",
              "C2000     6074\n",
              "C1200     4837\n",
              "C3000     1918\n",
              "C2100     1883\n",
              "         ...  \n",
              "C4120        1\n",
              "C8210        1\n",
              "C2561        1\n",
              "C4500        1\n",
              "C2150        1\n",
              "Name: CLASSIFICATION, Length: 71, dtype: int64"
            ]
          },
          "metadata": {},
          "execution_count": 6
        }
      ],
      "source": [
        "# Look at CLASSIFICATION value counts for binning\n",
        "classification_counts = application_df['CLASSIFICATION'].value_counts()\n",
        "\n",
        "classification_counts"
      ]
    },
    {
      "cell_type": "code",
      "execution_count": 7,
      "metadata": {
        "id": "UchEbwV5xfzX",
        "colab": {
          "base_uri": "https://localhost:8080/"
        },
        "outputId": "8263c5db-3333-4dda-af2c-d0dcb57fcb56"
      },
      "outputs": [
        {
          "output_type": "execute_result",
          "data": {
            "text/plain": [
              "C1000    17326\n",
              "C2000     6074\n",
              "C1200     4837\n",
              "C3000     1918\n",
              "C2100     1883\n",
              "C7000      777\n",
              "C1700      287\n",
              "C4000      194\n",
              "C5000      116\n",
              "C1270      114\n",
              "C2700      104\n",
              "C2800       95\n",
              "C7100       75\n",
              "C1300       58\n",
              "C1280       50\n",
              "C1230       36\n",
              "C1400       34\n",
              "C7200       32\n",
              "C2300       32\n",
              "C1240       30\n",
              "C8000       20\n",
              "C7120       18\n",
              "C1500       16\n",
              "C1800       15\n",
              "C6000       15\n",
              "C1250       14\n",
              "C8200       11\n",
              "C1238       10\n",
              "C1278       10\n",
              "C1235        9\n",
              "C1237        9\n",
              "C7210        7\n",
              "C2400        6\n",
              "C1720        6\n",
              "C4100        6\n",
              "C1257        5\n",
              "C1600        5\n",
              "C1260        3\n",
              "C2710        3\n",
              "C0           3\n",
              "C3200        2\n",
              "C1234        2\n",
              "C1246        2\n",
              "C1267        2\n",
              "C1256        2\n",
              "Name: CLASSIFICATION, dtype: int64"
            ]
          },
          "metadata": {},
          "execution_count": 7
        }
      ],
      "source": [
        "# You may find it helpful to look at CLASSIFICATION value counts >1\n",
        "filteredCounts = classification_counts[classification_counts > 1]\n",
        "\n",
        "filteredCounts"
      ]
    },
    {
      "cell_type": "code",
      "execution_count": 8,
      "metadata": {
        "colab": {
          "base_uri": "https://localhost:8080/"
        },
        "id": "l82OA6c1xfzX",
        "outputId": "3062b1db-694d-4b6b-ab76-78d0c4e30dee"
      },
      "outputs": [
        {
          "output_type": "execute_result",
          "data": {
            "text/plain": [
              "C1000    17326\n",
              "C2000     6074\n",
              "C1200     4837\n",
              "C3000     1918\n",
              "C2100     1883\n",
              "Other     1484\n",
              "C7000      777\n",
              "Name: CLASSIFICATION, dtype: int64"
            ]
          },
          "metadata": {},
          "execution_count": 8
        }
      ],
      "source": [
        "# Choose a cutoff value and create a list of classifications to be replaced\n",
        "# use the variable name `classifications_to_replace`\n",
        "cutoff = 500\n",
        "classifications_to_replace = list(classification_counts[classification_counts < cutoff].index)\n",
        "\n",
        "# Replace in dataframe\n",
        "for cls in classifications_to_replace:\n",
        "    application_df['CLASSIFICATION'] = application_df['CLASSIFICATION'].replace(cls,\"Other\")\n",
        "\n",
        "# Check to make sure binning was successful\n",
        "application_df['CLASSIFICATION'].value_counts()"
      ]
    },
    {
      "cell_type": "code",
      "execution_count": 9,
      "metadata": {
        "id": "YPzxeH5HxfzY"
      },
      "outputs": [],
      "source": [
        "# Convert categorical data to numeric with `pd.get_dummies`\n",
        "encoded_df = pd.get_dummies(application_df, columns=['APPLICATION_TYPE', 'CLASSIFICATION', 'AFFILIATION', 'USE_CASE', 'ORGANIZATION', 'INCOME_AMT', 'SPECIAL_CONSIDERATIONS'])\n"
      ]
    },
    {
      "cell_type": "code",
      "execution_count": 10,
      "metadata": {
        "id": "8Na0gKaCxfzY"
      },
      "outputs": [],
      "source": [
        "# Split our preprocessed data into our features and target arrays\n",
        "X = encoded_df.drop(['IS_SUCCESSFUL'], axis=1).values\n",
        "y = encoded_df['IS_SUCCESSFUL'].values\n",
        "\n",
        "# Split the preprocessed data into a training and testing dataset\n",
        "X_train, X_test, y_train, y_test = train_test_split(X, y, random_state=42)\n"
      ]
    },
    {
      "cell_type": "code",
      "execution_count": 11,
      "metadata": {
        "id": "qhGNosGNxfzY"
      },
      "outputs": [],
      "source": [
        "# Create a StandardScaler instances\n",
        "scaler = StandardScaler()\n",
        "\n",
        "# Fit the StandardScaler\n",
        "X_scaler = scaler.fit(X_train)\n",
        "\n",
        "# Scale the data\n",
        "X_train_scaled = X_scaler.transform(X_train)\n",
        "X_test_scaled = X_scaler.transform(X_test)"
      ]
    },
    {
      "cell_type": "markdown",
      "metadata": {
        "id": "D1d4bieTxfzZ"
      },
      "source": [
        "## Compile, Train and Evaluate the Model"
      ]
    },
    {
      "cell_type": "code",
      "execution_count": 17,
      "metadata": {
        "colab": {
          "base_uri": "https://localhost:8080/"
        },
        "id": "pPwzNqToxfzZ",
        "outputId": "af895aa2-815f-44bb-c4f8-af7fc4670aaf"
      },
      "outputs": [
        {
          "output_type": "stream",
          "name": "stdout",
          "text": [
            "Model: \"sequential_1\"\n",
            "_________________________________________________________________\n",
            " Layer (type)                Output Shape              Param #   \n",
            "=================================================================\n",
            " dense_3 (Dense)             (None, 100)               4500      \n",
            "                                                                 \n",
            " dense_4 (Dense)             (None, 80)                8080      \n",
            "                                                                 \n",
            " dense_5 (Dense)             (None, 1)                 81        \n",
            "                                                                 \n",
            "=================================================================\n",
            "Total params: 12,661\n",
            "Trainable params: 12,661\n",
            "Non-trainable params: 0\n",
            "_________________________________________________________________\n"
          ]
        }
      ],
      "source": [
        "# Define the model - deep neural net, i.e., the number of input features and hidden nodes for each layer.\n",
        "\n",
        "optimized_nn = tf.keras.models.Sequential()\n",
        "\n",
        "# First hidden layer\n",
        "optimized_nn.add(tf.keras.layers.Dense(units=100 , activation='relu', input_dim=len(X_train_scaled[0])))\n",
        "\n",
        "# Second hidden layer\n",
        "optimized_nn.add(tf.keras.layers.Dense(units=80, activation='relu'))\n",
        "\n",
        "# Output layer\n",
        "optimized_nn.add(tf.keras.layers.Dense(units=1, activation='sigmoid'))\n",
        "\n",
        "# Check the structure of the model\n",
        "optimized_nn.summary()"
      ]
    },
    {
      "cell_type": "code",
      "execution_count": 18,
      "metadata": {
        "id": "ubE1XVibxfzZ"
      },
      "outputs": [],
      "source": [
        "# Compile the model\n",
        "optimized_nn.compile(loss='binary_crossentropy', optimizer='adam', metrics=['accuracy'])"
      ]
    },
    {
      "cell_type": "code",
      "execution_count": 19,
      "metadata": {
        "colab": {
          "base_uri": "https://localhost:8080/"
        },
        "id": "Gw8UiYO4xfzZ",
        "outputId": "48661d4a-646c-435d-fb00-de80e29f7215"
      },
      "outputs": [
        {
          "output_type": "stream",
          "name": "stdout",
          "text": [
            "Epoch 1/100\n",
            "644/644 - 3s - loss: 0.5714 - accuracy: 0.7176 - val_loss: 0.5522 - val_accuracy: 0.7353 - 3s/epoch - 4ms/step\n",
            "Epoch 2/100\n",
            "644/644 - 1s - loss: 0.5588 - accuracy: 0.7247 - val_loss: 0.5561 - val_accuracy: 0.7326 - 1s/epoch - 2ms/step\n",
            "Epoch 3/100\n",
            "644/644 - 2s - loss: 0.5548 - accuracy: 0.7273 - val_loss: 0.5519 - val_accuracy: 0.7287 - 2s/epoch - 3ms/step\n",
            "Epoch 4/100\n",
            "644/644 - 2s - loss: 0.5524 - accuracy: 0.7285 - val_loss: 0.5460 - val_accuracy: 0.7357 - 2s/epoch - 2ms/step\n",
            "Epoch 5/100\n",
            "644/644 - 1s - loss: 0.5505 - accuracy: 0.7304 - val_loss: 0.5466 - val_accuracy: 0.7349 - 1s/epoch - 2ms/step\n",
            "Epoch 6/100\n",
            "644/644 - 1s - loss: 0.5494 - accuracy: 0.7299 - val_loss: 0.5475 - val_accuracy: 0.7345 - 1s/epoch - 2ms/step\n",
            "Epoch 7/100\n",
            "644/644 - 1s - loss: 0.5488 - accuracy: 0.7301 - val_loss: 0.5455 - val_accuracy: 0.7355 - 1s/epoch - 2ms/step\n",
            "Epoch 8/100\n",
            "644/644 - 1s - loss: 0.5474 - accuracy: 0.7291 - val_loss: 0.5452 - val_accuracy: 0.7370 - 1s/epoch - 2ms/step\n",
            "Epoch 9/100\n",
            "644/644 - 1s - loss: 0.5472 - accuracy: 0.7308 - val_loss: 0.5453 - val_accuracy: 0.7351 - 1s/epoch - 2ms/step\n",
            "Epoch 10/100\n",
            "644/644 - 1s - loss: 0.5462 - accuracy: 0.7311 - val_loss: 0.5488 - val_accuracy: 0.7364 - 1s/epoch - 2ms/step\n",
            "Epoch 11/100\n",
            "644/644 - 1s - loss: 0.5461 - accuracy: 0.7315 - val_loss: 0.5462 - val_accuracy: 0.7374 - 1s/epoch - 2ms/step\n",
            "Epoch 12/100\n",
            "644/644 - 2s - loss: 0.5453 - accuracy: 0.7329 - val_loss: 0.5443 - val_accuracy: 0.7345 - 2s/epoch - 3ms/step\n",
            "Epoch 13/100\n",
            "644/644 - 1s - loss: 0.5453 - accuracy: 0.7311 - val_loss: 0.5468 - val_accuracy: 0.7364 - 1s/epoch - 2ms/step\n",
            "Epoch 14/100\n",
            "644/644 - 1s - loss: 0.5446 - accuracy: 0.7324 - val_loss: 0.5444 - val_accuracy: 0.7380 - 1s/epoch - 2ms/step\n",
            "Epoch 15/100\n",
            "644/644 - 1s - loss: 0.5444 - accuracy: 0.7331 - val_loss: 0.5435 - val_accuracy: 0.7359 - 1s/epoch - 2ms/step\n",
            "Epoch 16/100\n",
            "644/644 - 1s - loss: 0.5440 - accuracy: 0.7336 - val_loss: 0.5461 - val_accuracy: 0.7339 - 1s/epoch - 2ms/step\n",
            "Epoch 17/100\n",
            "644/644 - 1s - loss: 0.5441 - accuracy: 0.7320 - val_loss: 0.5431 - val_accuracy: 0.7343 - 1s/epoch - 2ms/step\n",
            "Epoch 18/100\n",
            "644/644 - 1s - loss: 0.5434 - accuracy: 0.7337 - val_loss: 0.5439 - val_accuracy: 0.7351 - 1s/epoch - 2ms/step\n",
            "Epoch 19/100\n",
            "644/644 - 1s - loss: 0.5436 - accuracy: 0.7343 - val_loss: 0.5423 - val_accuracy: 0.7392 - 1s/epoch - 2ms/step\n",
            "Epoch 20/100\n",
            "644/644 - 1s - loss: 0.5431 - accuracy: 0.7338 - val_loss: 0.5453 - val_accuracy: 0.7353 - 1s/epoch - 2ms/step\n",
            "Epoch 21/100\n",
            "644/644 - 2s - loss: 0.5422 - accuracy: 0.7334 - val_loss: 0.5423 - val_accuracy: 0.7374 - 2s/epoch - 3ms/step\n",
            "Epoch 22/100\n",
            "644/644 - 1s - loss: 0.5417 - accuracy: 0.7353 - val_loss: 0.5453 - val_accuracy: 0.7364 - 1s/epoch - 2ms/step\n",
            "Epoch 23/100\n",
            "644/644 - 1s - loss: 0.5422 - accuracy: 0.7339 - val_loss: 0.5455 - val_accuracy: 0.7370 - 1s/epoch - 2ms/step\n",
            "Epoch 24/100\n",
            "644/644 - 1s - loss: 0.5417 - accuracy: 0.7354 - val_loss: 0.5435 - val_accuracy: 0.7361 - 1s/epoch - 2ms/step\n",
            "Epoch 25/100\n",
            "644/644 - 1s - loss: 0.5416 - accuracy: 0.7351 - val_loss: 0.5466 - val_accuracy: 0.7357 - 1s/epoch - 2ms/step\n",
            "Epoch 26/100\n",
            "644/644 - 1s - loss: 0.5416 - accuracy: 0.7358 - val_loss: 0.5450 - val_accuracy: 0.7345 - 1s/epoch - 2ms/step\n",
            "Epoch 27/100\n",
            "644/644 - 1s - loss: 0.5410 - accuracy: 0.7357 - val_loss: 0.5438 - val_accuracy: 0.7368 - 1s/epoch - 2ms/step\n",
            "Epoch 28/100\n",
            "644/644 - 1s - loss: 0.5407 - accuracy: 0.7357 - val_loss: 0.5471 - val_accuracy: 0.7337 - 1s/epoch - 2ms/step\n",
            "Epoch 29/100\n",
            "644/644 - 1s - loss: 0.5406 - accuracy: 0.7353 - val_loss: 0.5446 - val_accuracy: 0.7362 - 1s/epoch - 2ms/step\n",
            "Epoch 30/100\n",
            "644/644 - 2s - loss: 0.5400 - accuracy: 0.7355 - val_loss: 0.5446 - val_accuracy: 0.7353 - 2s/epoch - 3ms/step\n",
            "Epoch 31/100\n",
            "644/644 - 1s - loss: 0.5403 - accuracy: 0.7366 - val_loss: 0.5443 - val_accuracy: 0.7362 - 1s/epoch - 2ms/step\n",
            "Epoch 32/100\n",
            "644/644 - 1s - loss: 0.5396 - accuracy: 0.7362 - val_loss: 0.5444 - val_accuracy: 0.7376 - 1s/epoch - 2ms/step\n",
            "Epoch 33/100\n",
            "644/644 - 1s - loss: 0.5395 - accuracy: 0.7371 - val_loss: 0.5438 - val_accuracy: 0.7372 - 1s/epoch - 2ms/step\n",
            "Epoch 34/100\n",
            "644/644 - 1s - loss: 0.5389 - accuracy: 0.7377 - val_loss: 0.5454 - val_accuracy: 0.7376 - 1s/epoch - 2ms/step\n",
            "Epoch 35/100\n",
            "644/644 - 1s - loss: 0.5390 - accuracy: 0.7362 - val_loss: 0.5471 - val_accuracy: 0.7353 - 1s/epoch - 2ms/step\n",
            "Epoch 36/100\n",
            "644/644 - 1s - loss: 0.5391 - accuracy: 0.7378 - val_loss: 0.5471 - val_accuracy: 0.7357 - 1s/epoch - 2ms/step\n",
            "Epoch 37/100\n",
            "644/644 - 1s - loss: 0.5385 - accuracy: 0.7375 - val_loss: 0.5452 - val_accuracy: 0.7372 - 1s/epoch - 2ms/step\n",
            "Epoch 38/100\n",
            "644/644 - 2s - loss: 0.5387 - accuracy: 0.7357 - val_loss: 0.5441 - val_accuracy: 0.7376 - 2s/epoch - 2ms/step\n",
            "Epoch 39/100\n",
            "644/644 - 2s - loss: 0.5384 - accuracy: 0.7372 - val_loss: 0.5466 - val_accuracy: 0.7355 - 2s/epoch - 3ms/step\n",
            "Epoch 40/100\n",
            "644/644 - 1s - loss: 0.5378 - accuracy: 0.7380 - val_loss: 0.5479 - val_accuracy: 0.7370 - 1s/epoch - 2ms/step\n",
            "Epoch 41/100\n",
            "644/644 - 1s - loss: 0.5384 - accuracy: 0.7371 - val_loss: 0.5450 - val_accuracy: 0.7370 - 1s/epoch - 2ms/step\n",
            "Epoch 42/100\n",
            "644/644 - 1s - loss: 0.5387 - accuracy: 0.7371 - val_loss: 0.5461 - val_accuracy: 0.7361 - 1s/epoch - 2ms/step\n",
            "Epoch 43/100\n",
            "644/644 - 1s - loss: 0.5377 - accuracy: 0.7378 - val_loss: 0.5488 - val_accuracy: 0.7347 - 1s/epoch - 2ms/step\n",
            "Epoch 44/100\n",
            "644/644 - 1s - loss: 0.5377 - accuracy: 0.7380 - val_loss: 0.5452 - val_accuracy: 0.7364 - 1s/epoch - 2ms/step\n",
            "Epoch 45/100\n",
            "644/644 - 1s - loss: 0.5378 - accuracy: 0.7381 - val_loss: 0.5501 - val_accuracy: 0.7351 - 1s/epoch - 2ms/step\n",
            "Epoch 46/100\n",
            "644/644 - 2s - loss: 0.5382 - accuracy: 0.7371 - val_loss: 0.5490 - val_accuracy: 0.7359 - 2s/epoch - 4ms/step\n",
            "Epoch 47/100\n",
            "644/644 - 2s - loss: 0.5377 - accuracy: 0.7378 - val_loss: 0.5452 - val_accuracy: 0.7376 - 2s/epoch - 3ms/step\n",
            "Epoch 48/100\n",
            "644/644 - 2s - loss: 0.5373 - accuracy: 0.7379 - val_loss: 0.5469 - val_accuracy: 0.7357 - 2s/epoch - 3ms/step\n",
            "Epoch 49/100\n",
            "644/644 - 1s - loss: 0.5369 - accuracy: 0.7378 - val_loss: 0.5476 - val_accuracy: 0.7361 - 1s/epoch - 2ms/step\n",
            "Epoch 50/100\n",
            "644/644 - 1s - loss: 0.5371 - accuracy: 0.7378 - val_loss: 0.5483 - val_accuracy: 0.7357 - 1s/epoch - 2ms/step\n",
            "Epoch 51/100\n",
            "644/644 - 1s - loss: 0.5370 - accuracy: 0.7383 - val_loss: 0.5482 - val_accuracy: 0.7370 - 1s/epoch - 2ms/step\n",
            "Epoch 52/100\n",
            "644/644 - 1s - loss: 0.5369 - accuracy: 0.7381 - val_loss: 0.5504 - val_accuracy: 0.7353 - 1s/epoch - 2ms/step\n",
            "Epoch 53/100\n",
            "644/644 - 1s - loss: 0.5366 - accuracy: 0.7384 - val_loss: 0.5520 - val_accuracy: 0.7357 - 1s/epoch - 2ms/step\n",
            "Epoch 54/100\n",
            "644/644 - 1s - loss: 0.5367 - accuracy: 0.7384 - val_loss: 0.5491 - val_accuracy: 0.7370 - 1s/epoch - 2ms/step\n",
            "Epoch 55/100\n",
            "644/644 - 2s - loss: 0.5363 - accuracy: 0.7376 - val_loss: 0.5515 - val_accuracy: 0.7380 - 2s/epoch - 2ms/step\n",
            "Epoch 56/100\n",
            "644/644 - 2s - loss: 0.5368 - accuracy: 0.7378 - val_loss: 0.5494 - val_accuracy: 0.7359 - 2s/epoch - 3ms/step\n",
            "Epoch 57/100\n",
            "644/644 - 1s - loss: 0.5362 - accuracy: 0.7388 - val_loss: 0.5495 - val_accuracy: 0.7364 - 1s/epoch - 2ms/step\n",
            "Epoch 58/100\n",
            "644/644 - 1s - loss: 0.5356 - accuracy: 0.7379 - val_loss: 0.5489 - val_accuracy: 0.7364 - 1s/epoch - 2ms/step\n",
            "Epoch 59/100\n",
            "644/644 - 1s - loss: 0.5362 - accuracy: 0.7382 - val_loss: 0.5505 - val_accuracy: 0.7366 - 1s/epoch - 2ms/step\n",
            "Epoch 60/100\n",
            "644/644 - 1s - loss: 0.5358 - accuracy: 0.7381 - val_loss: 0.5492 - val_accuracy: 0.7372 - 1s/epoch - 2ms/step\n",
            "Epoch 61/100\n",
            "644/644 - 1s - loss: 0.5358 - accuracy: 0.7382 - val_loss: 0.5501 - val_accuracy: 0.7368 - 1s/epoch - 2ms/step\n",
            "Epoch 62/100\n",
            "644/644 - 1s - loss: 0.5357 - accuracy: 0.7375 - val_loss: 0.5496 - val_accuracy: 0.7374 - 1s/epoch - 2ms/step\n",
            "Epoch 63/100\n",
            "644/644 - 1s - loss: 0.5355 - accuracy: 0.7385 - val_loss: 0.5506 - val_accuracy: 0.7361 - 1s/epoch - 2ms/step\n",
            "Epoch 64/100\n",
            "644/644 - 2s - loss: 0.5354 - accuracy: 0.7380 - val_loss: 0.5542 - val_accuracy: 0.7376 - 2s/epoch - 2ms/step\n",
            "Epoch 65/100\n",
            "644/644 - 2s - loss: 0.5351 - accuracy: 0.7388 - val_loss: 0.5512 - val_accuracy: 0.7380 - 2s/epoch - 3ms/step\n",
            "Epoch 66/100\n",
            "644/644 - 1s - loss: 0.5361 - accuracy: 0.7387 - val_loss: 0.5507 - val_accuracy: 0.7362 - 1s/epoch - 2ms/step\n",
            "Epoch 67/100\n",
            "644/644 - 1s - loss: 0.5351 - accuracy: 0.7386 - val_loss: 0.5533 - val_accuracy: 0.7357 - 1s/epoch - 2ms/step\n",
            "Epoch 68/100\n",
            "644/644 - 1s - loss: 0.5355 - accuracy: 0.7383 - val_loss: 0.5492 - val_accuracy: 0.7357 - 1s/epoch - 2ms/step\n",
            "Epoch 69/100\n",
            "644/644 - 1s - loss: 0.5348 - accuracy: 0.7394 - val_loss: 0.5527 - val_accuracy: 0.7372 - 1s/epoch - 2ms/step\n",
            "Epoch 70/100\n",
            "644/644 - 1s - loss: 0.5350 - accuracy: 0.7381 - val_loss: 0.5514 - val_accuracy: 0.7366 - 1s/epoch - 2ms/step\n",
            "Epoch 71/100\n",
            "644/644 - 1s - loss: 0.5351 - accuracy: 0.7386 - val_loss: 0.5570 - val_accuracy: 0.7355 - 1s/epoch - 2ms/step\n",
            "Epoch 72/100\n",
            "644/644 - 1s - loss: 0.5351 - accuracy: 0.7386 - val_loss: 0.5561 - val_accuracy: 0.7337 - 1s/epoch - 2ms/step\n",
            "Epoch 73/100\n",
            "644/644 - 2s - loss: 0.5347 - accuracy: 0.7390 - val_loss: 0.5532 - val_accuracy: 0.7357 - 2s/epoch - 3ms/step\n",
            "Epoch 74/100\n",
            "644/644 - 2s - loss: 0.5344 - accuracy: 0.7392 - val_loss: 0.5523 - val_accuracy: 0.7361 - 2s/epoch - 3ms/step\n",
            "Epoch 75/100\n",
            "644/644 - 1s - loss: 0.5351 - accuracy: 0.7384 - val_loss: 0.5534 - val_accuracy: 0.7362 - 1s/epoch - 2ms/step\n",
            "Epoch 76/100\n",
            "644/644 - 1s - loss: 0.5342 - accuracy: 0.7382 - val_loss: 0.5532 - val_accuracy: 0.7349 - 1s/epoch - 2ms/step\n",
            "Epoch 77/100\n",
            "644/644 - 1s - loss: 0.5343 - accuracy: 0.7391 - val_loss: 0.5560 - val_accuracy: 0.7347 - 1s/epoch - 2ms/step\n",
            "Epoch 78/100\n",
            "644/644 - 1s - loss: 0.5346 - accuracy: 0.7384 - val_loss: 0.5563 - val_accuracy: 0.7357 - 1s/epoch - 2ms/step\n",
            "Epoch 79/100\n",
            "644/644 - 1s - loss: 0.5340 - accuracy: 0.7388 - val_loss: 0.5555 - val_accuracy: 0.7361 - 1s/epoch - 2ms/step\n",
            "Epoch 80/100\n",
            "644/644 - 1s - loss: 0.5343 - accuracy: 0.7389 - val_loss: 0.5556 - val_accuracy: 0.7345 - 1s/epoch - 2ms/step\n",
            "Epoch 81/100\n",
            "644/644 - 2s - loss: 0.5340 - accuracy: 0.7393 - val_loss: 0.5566 - val_accuracy: 0.7355 - 2s/epoch - 4ms/step\n",
            "Epoch 82/100\n",
            "644/644 - 1s - loss: 0.5343 - accuracy: 0.7383 - val_loss: 0.5554 - val_accuracy: 0.7357 - 1s/epoch - 2ms/step\n",
            "Epoch 83/100\n",
            "644/644 - 1s - loss: 0.5339 - accuracy: 0.7393 - val_loss: 0.5563 - val_accuracy: 0.7357 - 1s/epoch - 2ms/step\n",
            "Epoch 84/100\n",
            "644/644 - 1s - loss: 0.5339 - accuracy: 0.7390 - val_loss: 0.5527 - val_accuracy: 0.7357 - 1s/epoch - 2ms/step\n",
            "Epoch 85/100\n",
            "644/644 - 1s - loss: 0.5338 - accuracy: 0.7387 - val_loss: 0.5597 - val_accuracy: 0.7370 - 1s/epoch - 2ms/step\n",
            "Epoch 86/100\n",
            "644/644 - 1s - loss: 0.5338 - accuracy: 0.7395 - val_loss: 0.5576 - val_accuracy: 0.7339 - 1s/epoch - 2ms/step\n",
            "Epoch 87/100\n",
            "644/644 - 1s - loss: 0.5340 - accuracy: 0.7395 - val_loss: 0.5586 - val_accuracy: 0.7359 - 1s/epoch - 2ms/step\n",
            "Epoch 88/100\n",
            "644/644 - 1s - loss: 0.5340 - accuracy: 0.7387 - val_loss: 0.5582 - val_accuracy: 0.7366 - 1s/epoch - 2ms/step\n",
            "Epoch 89/100\n",
            "644/644 - 2s - loss: 0.5336 - accuracy: 0.7387 - val_loss: 0.5553 - val_accuracy: 0.7357 - 2s/epoch - 3ms/step\n",
            "Epoch 90/100\n",
            "644/644 - 2s - loss: 0.5338 - accuracy: 0.7394 - val_loss: 0.5558 - val_accuracy: 0.7374 - 2s/epoch - 3ms/step\n",
            "Epoch 91/100\n",
            "644/644 - 1s - loss: 0.5331 - accuracy: 0.7393 - val_loss: 0.5579 - val_accuracy: 0.7376 - 1s/epoch - 2ms/step\n",
            "Epoch 92/100\n",
            "644/644 - 1s - loss: 0.5334 - accuracy: 0.7387 - val_loss: 0.5603 - val_accuracy: 0.7355 - 1s/epoch - 2ms/step\n",
            "Epoch 93/100\n",
            "644/644 - 2s - loss: 0.5334 - accuracy: 0.7396 - val_loss: 0.5626 - val_accuracy: 0.7355 - 2s/epoch - 2ms/step\n",
            "Epoch 94/100\n",
            "644/644 - 1s - loss: 0.5331 - accuracy: 0.7392 - val_loss: 0.5646 - val_accuracy: 0.7353 - 1s/epoch - 2ms/step\n",
            "Epoch 95/100\n",
            "644/644 - 1s - loss: 0.5330 - accuracy: 0.7389 - val_loss: 0.5577 - val_accuracy: 0.7359 - 1s/epoch - 2ms/step\n",
            "Epoch 96/100\n",
            "644/644 - 2s - loss: 0.5333 - accuracy: 0.7395 - val_loss: 0.5617 - val_accuracy: 0.7337 - 2s/epoch - 2ms/step\n",
            "Epoch 97/100\n",
            "644/644 - 2s - loss: 0.5337 - accuracy: 0.7392 - val_loss: 0.5635 - val_accuracy: 0.7362 - 2s/epoch - 2ms/step\n",
            "Epoch 98/100\n",
            "644/644 - 2s - loss: 0.5334 - accuracy: 0.7392 - val_loss: 0.5608 - val_accuracy: 0.7345 - 2s/epoch - 3ms/step\n",
            "Epoch 99/100\n",
            "644/644 - 1s - loss: 0.5331 - accuracy: 0.7391 - val_loss: 0.5577 - val_accuracy: 0.7349 - 1s/epoch - 2ms/step\n",
            "Epoch 100/100\n",
            "644/644 - 1s - loss: 0.5332 - accuracy: 0.7395 - val_loss: 0.5669 - val_accuracy: 0.7355 - 1s/epoch - 2ms/step\n"
          ]
        }
      ],
      "source": [
        "# Train the model\n",
        "optimized_model = optimized_nn.fit(X_train_scaled, y_train, epochs=100, validation_split=0.2, callbacks=[tf.keras.callbacks.ModelCheckpoint('best_model.h5', save_best_only=True)], verbose=2)\n"
      ]
    },
    {
      "cell_type": "code",
      "execution_count": 20,
      "metadata": {
        "colab": {
          "base_uri": "https://localhost:8080/"
        },
        "id": "KegQ__6WxfzZ",
        "outputId": "77246686-0ae3-40e3-e9fb-1189d858d14d"
      },
      "outputs": [
        {
          "output_type": "stream",
          "name": "stdout",
          "text": [
            "268/268 - 0s - loss: 0.5660 - accuracy: 0.7276 - 344ms/epoch - 1ms/step\n",
            "Optimized Model Loss: 0.5659639239311218, Optimized Model Accuracy: 0.727580189704895\n"
          ]
        }
      ],
      "source": [
        "# Evaluate the model using the test data\n",
        "optimized_model_loss, optimized_model_accuracy = optimized_nn.evaluate(X_test_scaled, y_test, verbose=2)\n",
        "print(f\"Optimized Model Loss: {optimized_model_loss}, Optimized Model Accuracy: {optimized_model_accuracy}\")\n"
      ]
    },
    {
      "cell_type": "code",
      "source": [],
      "metadata": {
        "id": "DTIWvrPaAi90"
      },
      "execution_count": 15,
      "outputs": []
    },
    {
      "cell_type": "code",
      "execution_count": 16,
      "metadata": {
        "id": "v12-wBkwxfza"
      },
      "outputs": [],
      "source": [
        "# Export our model to HDF5 file\n",
        "#optimized_nn.save('AlphabetSoupCharity_Optimized.h5')"
      ]
    }
  ],
  "metadata": {
    "kernelspec": {
      "display_name": "Python 3",
      "language": "python",
      "name": "python3"
    },
    "language_info": {
      "codemirror_mode": {
        "name": "ipython",
        "version": 3
      },
      "file_extension": ".py",
      "mimetype": "text/x-python",
      "name": "python",
      "nbconvert_exporter": "python",
      "pygments_lexer": "ipython3",
      "version": "3.-1.-1"
    },
    "vscode": {
      "interpreter": {
        "hash": "31f2aee4e71d21fbe5cf8b01ff0e069b9275f58929596ceb00d14d90e3e16cd6"
      }
    },
    "colab": {
      "provenance": [],
      "include_colab_link": true
    }
  },
  "nbformat": 4,
  "nbformat_minor": 0
}